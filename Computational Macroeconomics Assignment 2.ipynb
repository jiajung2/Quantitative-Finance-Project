{
 "cells": [
  {
   "cell_type": "code",
   "execution_count": 1,
   "metadata": {},
   "outputs": [],
   "source": [
    "import numpy as np\n",
    "import pandas as pd\n",
    "import statsmodels.api as sm\n",
    "import matplotlib.pyplot as plt\n",
    "plt.style.use('classic')\n",
    "%matplotlib inline"
   ]
  },
  {
   "cell_type": "markdown",
   "metadata": {},
   "source": [
    "## Exercise: Income and Growth Across Countries\n",
    "\n",
    "The data file `cross_country_gdp_per_capita.csv` contains annual data on GDP per capita for over 100 countries and is available here: https://raw.githubusercontent.com/letsgoexploring/economic-data/master/cross-country-production/csv/cross_country_gdp_per_capita.csv. The data are was constructed from the Penn World Table (https://www.rug.nl/ggdc/productivity/pwt/).\n",
    "\n",
    "In this exercise, you will:\n",
    "\n",
    "1. Analyze some basic facts about GDP per capita across the world.\n",
    "2. Compute the average annual growth rate of GDP per capita for each country in the data.\n",
    "3. Compute a linear regression of average GDP per capita growth on GDP per capita in the initial year.\n",
    "\n",
    "Follow the instructions in the following cells."
   ]
  },
  {
   "cell_type": "markdown",
   "metadata": {},
   "source": [
    "### Part (a)"
   ]
  },
  {
   "cell_type": "code",
   "execution_count": 2,
   "metadata": {},
   "outputs": [
    {
     "data": {
      "text/html": [
       "<div>\n",
       "<style scoped>\n",
       "    .dataframe tbody tr th:only-of-type {\n",
       "        vertical-align: middle;\n",
       "    }\n",
       "\n",
       "    .dataframe tbody tr th {\n",
       "        vertical-align: top;\n",
       "    }\n",
       "\n",
       "    .dataframe thead th {\n",
       "        text-align: right;\n",
       "    }\n",
       "</style>\n",
       "<table border=\"1\" class=\"dataframe\">\n",
       "  <thead>\n",
       "    <tr style=\"text-align: right;\">\n",
       "      <th></th>\n",
       "      <th>Algeria - DZA</th>\n",
       "      <th>Argentina - ARG</th>\n",
       "      <th>Australia - AUS</th>\n",
       "      <th>Austria - AUT</th>\n",
       "      <th>Bangladesh - BGD</th>\n",
       "      <th>Barbados - BRB</th>\n",
       "      <th>Belgium - BEL</th>\n",
       "      <th>Benin - BEN</th>\n",
       "      <th>Bolivia (Plurinational State of) - BOL</th>\n",
       "      <th>Botswana - BWA</th>\n",
       "      <th>...</th>\n",
       "      <th>Tunisia - TUN</th>\n",
       "      <th>Turkey - TUR</th>\n",
       "      <th>U.R. of Tanzania: Mainland - TZA</th>\n",
       "      <th>Uganda - UGA</th>\n",
       "      <th>United Kingdom - GBR</th>\n",
       "      <th>United States - USA</th>\n",
       "      <th>Uruguay - URY</th>\n",
       "      <th>Venezuela (Bolivarian Republic of) - VEN</th>\n",
       "      <th>Zambia - ZMB</th>\n",
       "      <th>Zimbabwe - ZWE</th>\n",
       "    </tr>\n",
       "    <tr>\n",
       "      <th>year</th>\n",
       "      <th></th>\n",
       "      <th></th>\n",
       "      <th></th>\n",
       "      <th></th>\n",
       "      <th></th>\n",
       "      <th></th>\n",
       "      <th></th>\n",
       "      <th></th>\n",
       "      <th></th>\n",
       "      <th></th>\n",
       "      <th></th>\n",
       "      <th></th>\n",
       "      <th></th>\n",
       "      <th></th>\n",
       "      <th></th>\n",
       "      <th></th>\n",
       "      <th></th>\n",
       "      <th></th>\n",
       "      <th></th>\n",
       "      <th></th>\n",
       "      <th></th>\n",
       "    </tr>\n",
       "  </thead>\n",
       "  <tbody>\n",
       "    <tr>\n",
       "      <th>1960-01-01</th>\n",
       "      <td>10835.013633</td>\n",
       "      <td>3211.930776</td>\n",
       "      <td>15799.374511</td>\n",
       "      <td>10212.925212</td>\n",
       "      <td>1563.253366</td>\n",
       "      <td>9351.603196</td>\n",
       "      <td>10628.077353</td>\n",
       "      <td>1780.014036</td>\n",
       "      <td>1958.690589</td>\n",
       "      <td>513.302543</td>\n",
       "      <td>...</td>\n",
       "      <td>1871.893469</td>\n",
       "      <td>5130.867881</td>\n",
       "      <td>1161.468506</td>\n",
       "      <td>867.974864</td>\n",
       "      <td>13277.785336</td>\n",
       "      <td>19079.524915</td>\n",
       "      <td>7470.180074</td>\n",
       "      <td>7649.257843</td>\n",
       "      <td>1838.128861</td>\n",
       "      <td>2448.016819</td>\n",
       "    </tr>\n",
       "    <tr>\n",
       "      <th>1961-01-01</th>\n",
       "      <td>9263.024993</td>\n",
       "      <td>3262.946915</td>\n",
       "      <td>15902.039335</td>\n",
       "      <td>10715.417912</td>\n",
       "      <td>1521.760195</td>\n",
       "      <td>9709.269726</td>\n",
       "      <td>11145.608203</td>\n",
       "      <td>1762.469851</td>\n",
       "      <td>1977.905892</td>\n",
       "      <td>544.948259</td>\n",
       "      <td>...</td>\n",
       "      <td>1898.761129</td>\n",
       "      <td>5082.403742</td>\n",
       "      <td>1159.658115</td>\n",
       "      <td>859.945213</td>\n",
       "      <td>13502.722846</td>\n",
       "      <td>19246.521317</td>\n",
       "      <td>7475.181317</td>\n",
       "      <td>7612.769444</td>\n",
       "      <td>1842.407954</td>\n",
       "      <td>2509.457180</td>\n",
       "    </tr>\n",
       "    <tr>\n",
       "      <th>1962-01-01</th>\n",
       "      <td>5283.863349</td>\n",
       "      <td>3271.116333</td>\n",
       "      <td>16466.982540</td>\n",
       "      <td>10950.801769</td>\n",
       "      <td>1580.896806</td>\n",
       "      <td>10035.758090</td>\n",
       "      <td>11681.076150</td>\n",
       "      <td>1676.566399</td>\n",
       "      <td>2005.947731</td>\n",
       "      <td>577.503224</td>\n",
       "      <td>...</td>\n",
       "      <td>1885.964205</td>\n",
       "      <td>5268.025228</td>\n",
       "      <td>1235.448666</td>\n",
       "      <td>855.533041</td>\n",
       "      <td>13551.653640</td>\n",
       "      <td>20092.721039</td>\n",
       "      <td>7465.918145</td>\n",
       "      <td>7885.256390</td>\n",
       "      <td>1746.632752</td>\n",
       "      <td>2415.856449</td>\n",
       "    </tr>\n",
       "    <tr>\n",
       "      <th>1963-01-01</th>\n",
       "      <td>5965.947146</td>\n",
       "      <td>3109.235438</td>\n",
       "      <td>17306.359633</td>\n",
       "      <td>11330.010681</td>\n",
       "      <td>1646.486474</td>\n",
       "      <td>9852.283413</td>\n",
       "      <td>12054.987566</td>\n",
       "      <td>1731.405529</td>\n",
       "      <td>2089.380990</td>\n",
       "      <td>594.655498</td>\n",
       "      <td>...</td>\n",
       "      <td>2032.913729</td>\n",
       "      <td>5642.660588</td>\n",
       "      <td>1288.067537</td>\n",
       "      <td>849.658115</td>\n",
       "      <td>13989.652743</td>\n",
       "      <td>20687.402596</td>\n",
       "      <td>7232.202019</td>\n",
       "      <td>8175.083481</td>\n",
       "      <td>1783.751559</td>\n",
       "      <td>2397.569223</td>\n",
       "    </tr>\n",
       "    <tr>\n",
       "      <th>1964-01-01</th>\n",
       "      <td>6087.378183</td>\n",
       "      <td>3214.965520</td>\n",
       "      <td>17813.994185</td>\n",
       "      <td>11792.523817</td>\n",
       "      <td>1604.166960</td>\n",
       "      <td>9764.132887</td>\n",
       "      <td>12765.856174</td>\n",
       "      <td>1785.878635</td>\n",
       "      <td>2168.143080</td>\n",
       "      <td>623.269084</td>\n",
       "      <td>...</td>\n",
       "      <td>2046.015150</td>\n",
       "      <td>5693.903199</td>\n",
       "      <td>1446.366780</td>\n",
       "      <td>894.702738</td>\n",
       "      <td>14730.599328</td>\n",
       "      <td>21628.648863</td>\n",
       "      <td>7426.666257</td>\n",
       "      <td>8764.632647</td>\n",
       "      <td>1978.835032</td>\n",
       "      <td>2263.463613</td>\n",
       "    </tr>\n",
       "  </tbody>\n",
       "</table>\n",
       "<p>5 rows × 104 columns</p>\n",
       "</div>"
      ],
      "text/plain": [
       "            Algeria - DZA  Argentina - ARG  Australia - AUS  Austria - AUT  \\\n",
       "year                                                                         \n",
       "1960-01-01   10835.013633      3211.930776     15799.374511   10212.925212   \n",
       "1961-01-01    9263.024993      3262.946915     15902.039335   10715.417912   \n",
       "1962-01-01    5283.863349      3271.116333     16466.982540   10950.801769   \n",
       "1963-01-01    5965.947146      3109.235438     17306.359633   11330.010681   \n",
       "1964-01-01    6087.378183      3214.965520     17813.994185   11792.523817   \n",
       "\n",
       "            Bangladesh - BGD  Barbados - BRB  Belgium - BEL  Benin - BEN  \\\n",
       "year                                                                       \n",
       "1960-01-01       1563.253366     9351.603196   10628.077353  1780.014036   \n",
       "1961-01-01       1521.760195     9709.269726   11145.608203  1762.469851   \n",
       "1962-01-01       1580.896806    10035.758090   11681.076150  1676.566399   \n",
       "1963-01-01       1646.486474     9852.283413   12054.987566  1731.405529   \n",
       "1964-01-01       1604.166960     9764.132887   12765.856174  1785.878635   \n",
       "\n",
       "            Bolivia (Plurinational State of) - BOL  Botswana - BWA  ...  \\\n",
       "year                                                                ...   \n",
       "1960-01-01                             1958.690589      513.302543  ...   \n",
       "1961-01-01                             1977.905892      544.948259  ...   \n",
       "1962-01-01                             2005.947731      577.503224  ...   \n",
       "1963-01-01                             2089.380990      594.655498  ...   \n",
       "1964-01-01                             2168.143080      623.269084  ...   \n",
       "\n",
       "            Tunisia - TUN  Turkey - TUR  U.R. of Tanzania: Mainland - TZA  \\\n",
       "year                                                                        \n",
       "1960-01-01    1871.893469   5130.867881                       1161.468506   \n",
       "1961-01-01    1898.761129   5082.403742                       1159.658115   \n",
       "1962-01-01    1885.964205   5268.025228                       1235.448666   \n",
       "1963-01-01    2032.913729   5642.660588                       1288.067537   \n",
       "1964-01-01    2046.015150   5693.903199                       1446.366780   \n",
       "\n",
       "            Uganda - UGA  United Kingdom - GBR  United States - USA  \\\n",
       "year                                                                  \n",
       "1960-01-01    867.974864          13277.785336         19079.524915   \n",
       "1961-01-01    859.945213          13502.722846         19246.521317   \n",
       "1962-01-01    855.533041          13551.653640         20092.721039   \n",
       "1963-01-01    849.658115          13989.652743         20687.402596   \n",
       "1964-01-01    894.702738          14730.599328         21628.648863   \n",
       "\n",
       "            Uruguay - URY  Venezuela (Bolivarian Republic of) - VEN  \\\n",
       "year                                                                  \n",
       "1960-01-01    7470.180074                               7649.257843   \n",
       "1961-01-01    7475.181317                               7612.769444   \n",
       "1962-01-01    7465.918145                               7885.256390   \n",
       "1963-01-01    7232.202019                               8175.083481   \n",
       "1964-01-01    7426.666257                               8764.632647   \n",
       "\n",
       "            Zambia - ZMB  Zimbabwe - ZWE  \n",
       "year                                      \n",
       "1960-01-01   1838.128861     2448.016819  \n",
       "1961-01-01   1842.407954     2509.457180  \n",
       "1962-01-01   1746.632752     2415.856449  \n",
       "1963-01-01   1783.751559     2397.569223  \n",
       "1964-01-01   1978.835032     2263.463613  \n",
       "\n",
       "[5 rows x 104 columns]"
      ]
     },
     "execution_count": 2,
     "metadata": {},
     "output_type": "execute_result"
    }
   ],
   "source": [
    "# Create a variable called 'data' that stores the data in the file 'cross_country_gdp_per_capita.csv' in a DataFrame\n",
    "# Make sure that 'Year', the left-most column of the data, is set to be the index column\n",
    "data=pd.read_csv('https://raw.githubusercontent.com/letsgoexploring/economic-data/master/cross-country-production/csv/cross_country_gdp_per_capita.csv',index_col=0,parse_dates=True)\n",
    "\n",
    "\n",
    "# Print the first 5 rows of data\n",
    "data.head(5)"
   ]
  },
  {
   "cell_type": "code",
   "execution_count": 3,
   "metadata": {},
   "outputs": [
    {
     "data": {
      "text/plain": [
       "104"
      ]
     },
     "execution_count": 3,
     "metadata": {},
     "output_type": "execute_result"
    }
   ],
   "source": [
    "# Each column contains data for a specific country. Print the number of countries (e.g., the length of data.columns)\n",
    "len(data.columns)"
   ]
  },
  {
   "cell_type": "code",
   "execution_count": 4,
   "metadata": {},
   "outputs": [
    {
     "data": {
      "text/plain": [
       "60"
      ]
     },
     "execution_count": 4,
     "metadata": {},
     "output_type": "execute_result"
    }
   ],
   "source": [
    "# Each column contains data for a specific year. Print the number of years (e.g., the length of data.index)\n",
    "len(data.index)"
   ]
  },
  {
   "cell_type": "code",
   "execution_count": 5,
   "metadata": {},
   "outputs": [
    {
     "data": {
      "text/plain": [
       "Algeria - DZA                               10835.013633\n",
       "Argentina - ARG                              3211.930776\n",
       "Australia - AUS                             15799.374511\n",
       "Austria - AUT                               10212.925212\n",
       "Bangladesh - BGD                             1563.253366\n",
       "                                                ...     \n",
       "United States - USA                         19079.524915\n",
       "Uruguay - URY                                7470.180074\n",
       "Venezuela (Bolivarian Republic of) - VEN     7649.257843\n",
       "Zambia - ZMB                                 1838.128861\n",
       "Zimbabwe - ZWE                               2448.016819\n",
       "Name: 1960-01-01 00:00:00, Length: 104, dtype: float64"
      ]
     },
     "execution_count": 5,
     "metadata": {},
     "output_type": "execute_result"
    }
   ],
   "source": [
    "# Print the values of the initial year and the final year in the data\n",
    "data.iloc[0]"
   ]
  },
  {
   "cell_type": "code",
   "execution_count": 6,
   "metadata": {},
   "outputs": [
    {
     "data": {
      "text/plain": [
       "Algeria - DZA                               11787.492764\n",
       "Argentina - ARG                             21826.837555\n",
       "Australia - AUS                             54147.007455\n",
       "Austria - AUT                               53344.506852\n",
       "Bangladesh - BGD                             4658.009856\n",
       "                                                ...     \n",
       "United States - USA                         62588.999726\n",
       "Uruguay - URY                               20545.422919\n",
       "Venezuela (Bolivarian Republic of) - VEN      251.092365\n",
       "Zambia - ZMB                                 3179.195984\n",
       "Zimbabwe - ZWE                               2787.658975\n",
       "Name: 2019-01-01 00:00:00, Length: 104, dtype: float64"
      ]
     },
     "execution_count": 6,
     "metadata": {},
     "output_type": "execute_result"
    }
   ],
   "source": [
    "data.iloc[-1]"
   ]
  },
  {
   "cell_type": "code",
   "execution_count": 7,
   "metadata": {},
   "outputs": [],
   "source": [
    "# Create a variable called 'data_initial' that is equal to the first row of the data DataFrame\n",
    "data_initial=data.iloc[0]\n",
    "\n",
    "# Create a variable called 'data_final' that is equal to the last row of the data DataFrame\n",
    "data_final=data.iloc[-1]"
   ]
  },
  {
   "cell_type": "code",
   "execution_count": 8,
   "metadata": {},
   "outputs": [
    {
     "data": {
      "text/plain": [
       "Botswana - BWA       513.302543\n",
       "Ethiopia - ETH       536.422488\n",
       "Mozambique - MOZ     659.204280\n",
       "El Salvador - SLV    745.048021\n",
       "Burundi - BDI        754.992174\n",
       "Nepal - NPL          761.835880\n",
       "Egypt - EGY          766.933912\n",
       "Mali - MLI           776.597797\n",
       "Malta - MLT          857.511909\n",
       "Uganda - UGA         867.974864\n",
       "Name: 1960-01-01 00:00:00, dtype: float64"
      ]
     },
     "execution_count": 8,
     "metadata": {},
     "output_type": "execute_result"
    }
   ],
   "source": [
    "# Use the sort_values() method of data_initial to sort the Series in ascending order.\n",
    "data_initial.sort_values(ascending=True)\n",
    "\n",
    "# Print the name and GDP per capita of the countries with the 10 lowest GDPs per capita in the initial year of the data\n",
    "data_initial.sort_values(ascending=True).head(10)"
   ]
  },
  {
   "cell_type": "code",
   "execution_count": 39,
   "metadata": {},
   "outputs": [
    {
     "data": {
      "text/plain": [
       "Venezuela (Bolivarian Republic of) - VEN     251.092365\n",
       "Burundi - BDI                                790.045989\n",
       "Central African Republic - CAF               978.349365\n",
       "D.R. of the Congo - COD                     1021.693694\n",
       "Malawi - MWI                                1161.380656\n",
       "Niger - NER                                 1210.878154\n",
       "Mozambique - MOZ                            1228.870498\n",
       "Madagascar - MDG                            1539.062941\n",
       "Haiti - HTI                                 1554.021210\n",
       "Uganda - UGA                                2092.149157\n",
       "Name: 2019-01-01 00:00:00, dtype: float64"
      ]
     },
     "execution_count": 39,
     "metadata": {},
     "output_type": "execute_result"
    }
   ],
   "source": [
    "# Use the sort_values() method of data_final to sort the Series in ascending order.\n",
    "\n",
    "data_final.sort_values(ascending=True)\n",
    "\n",
    "# Print the name and GDP per capita of the countries with the 10 lowest GDPs per capita in the final year of the data\n",
    "data_final.sort_values(ascending=True).head(10)\n",
    "\n"
   ]
  },
  {
   "cell_type": "code",
   "execution_count": 10,
   "metadata": {},
   "outputs": [
    {
     "name": "stdout",
     "output_type": "stream",
     "text": [
      "Uganda - UGA, Burundi - BDI \n"
     ]
    }
   ],
   "source": [
    "# Print the names of the countries that are among the 10 with lowest GDPs per capita in BOTH the initial year and \n",
    "# the final year.\n",
    "\n",
    "print('Uganda - UGA' +', ' 'Burundi - BDI ')"
   ]
  },
  {
   "cell_type": "code",
   "execution_count": 11,
   "metadata": {},
   "outputs": [
    {
     "data": {
      "text/plain": [
       "Netherlands - NLD       13113.134947\n",
       "United Kingdom - GBR    13277.785336\n",
       "Sweden - SWE            13470.279252\n",
       "Denmark - DNK           13568.789123\n",
       "New Zealand - NZL       14358.213239\n",
       "Canada - CAN            15393.973193\n",
       "Australia - AUS         15799.374511\n",
       "Luxembourg - LUX        18467.474476\n",
       "United States - USA     19079.524915\n",
       "Switzerland - CHE       23249.107345\n",
       "Name: 1960-01-01 00:00:00, dtype: float64"
      ]
     },
     "execution_count": 11,
     "metadata": {},
     "output_type": "execute_result"
    }
   ],
   "source": [
    "# Print the name and GDP per capita of the countries with the 10 highest GDPs per capita in the initial year of the data\n",
    "\n",
    "data_initial.sort_values(ascending=True).tail(10)\n"
   ]
  },
  {
   "cell_type": "code",
   "execution_count": 12,
   "metadata": {},
   "outputs": [
    {
     "data": {
      "text/plain": [
       "Denmark - DNK                  54027.148192\n",
       "Australia - AUS                54147.007455\n",
       "China, Hong Kong SAR - HKG     54810.020072\n",
       "Netherlands - NLD              55569.439871\n",
       "United States - USA            62588.999726\n",
       "Norway - NOR                   73668.787811\n",
       "Switzerland - CHE              75298.817475\n",
       "Singapore - SGP                82336.341773\n",
       "Luxembourg - LUX               90479.404038\n",
       "Ireland - IRL                 102622.448922\n",
       "Name: 2019-01-01 00:00:00, dtype: float64"
      ]
     },
     "execution_count": 12,
     "metadata": {},
     "output_type": "execute_result"
    }
   ],
   "source": [
    "# Print the name and GDP per capita of the countries with the 10 highest GDPs per capita in the final year of the data\n",
    "\n",
    "data_final.sort_values(ascending=True).tail(10)\n"
   ]
  },
  {
   "cell_type": "code",
   "execution_count": 13,
   "metadata": {},
   "outputs": [
    {
     "name": "stdout",
     "output_type": "stream",
     "text": [
      "Denmark - DNK, Luxembourg - LUX , United States - USA, Netherlands - NLD, Australia - AUS ,  Switzerland - CHE\n"
     ]
    }
   ],
   "source": [
    "# Print the names of the countries that are among the 10 with highest GDPs per capita in BOTH the initial year\n",
    "# and the final year\n",
    "\n",
    "print('Denmark - DNK' +', ' 'Luxembourg - LUX '+', ' 'United States - USA'+', ' 'Netherlands - NLD' +', ' 'Australia - AUS '+', ' ' Switzerland - CHE')\n",
    "\n"
   ]
  },
  {
   "cell_type": "markdown",
   "metadata": {},
   "source": [
    "### Part (b)\n",
    "\n",
    "Let $y_t$ denotes GDP per capita for some country in some year $t$ and let $g$ denotes the average annual growth in GDP per capita between years 0 and $T$. $g$ is defined by:\n",
    "\\begin{align}\n",
    "y_T & = (1+g)^T y_0\n",
    "\\end{align}\n",
    "which implies:\n",
    "\\begin{align}\n",
    "g & = \\left(\\frac{y_T}{y_0}\\right)^{1/T} - 1\n",
    "\\end{align}\n",
    "We can use this equation to compute the aveage growth rate of GDP per capita for each country in our data. Note that for our data, $T$ is equal to `len(data.index)-1`."
   ]
  },
  {
   "cell_type": "code",
   "execution_count": 31,
   "metadata": {},
   "outputs": [
    {
     "data": {
      "text/plain": [
       "Venezuela (Bolivarian Republic of) - VEN   -0.056263\n",
       "D.R. of the Congo - COD                    -0.018001\n",
       "Niger - NER                                -0.008539\n",
       "Central African Republic - CAF             -0.007771\n",
       "Gambia - GMB                               -0.002642\n",
       "                                              ...   \n",
       "Romania - ROU                               0.050583\n",
       "Singapore - SGP                             0.059211\n",
       "Botswana - BWA                              0.060565\n",
       "Republic of Korea - KOR                     0.061385\n",
       "Malta - MLT                                 0.066797\n",
       "Length: 104, dtype: float64"
      ]
     },
     "execution_count": 31,
     "metadata": {},
     "output_type": "execute_result"
    }
   ],
   "source": [
    "# Create a variable called 'growth_rates' that contains the average growth rate of each country in the data.\n",
    "# NOTE: You do not need to re-sort the variables data_initial and data_final. If their indices don't align,\n",
    "# Pandas will automatically sort their indices alphabetically.\n",
    "\n",
    "T=len(data.index)-1 \n",
    "growth_rates=(data_final/data_initial)**(1/T)-1\n",
    "\n",
    "# Use the sort_values() method of growth_rates to sort the Series in ascending order.\n",
    "\n",
    "growth_rates.sort_values(ascending=True)\n"
   ]
  },
  {
   "cell_type": "code",
   "execution_count": 32,
   "metadata": {},
   "outputs": [
    {
     "name": "stdout",
     "output_type": "stream",
     "text": [
      "0.0219\n"
     ]
    }
   ],
   "source": [
    "# Print the average growth rate of GDP per capita for all countries rounded to 4 decimal places\n",
    "print(round(growth_rates.mean(),4))"
   ]
  },
  {
   "cell_type": "code",
   "execution_count": 33,
   "metadata": {},
   "outputs": [
    {
     "name": "stdout",
     "output_type": "stream",
     "text": [
      "0.0169\n"
     ]
    }
   ],
   "source": [
    "# Print the standard deviation of the growth rate of GDP per capita for all countries rounded to 4 decimal places\n",
    "print(round(np.std(growth_rates),4))"
   ]
  },
  {
   "cell_type": "code",
   "execution_count": 35,
   "metadata": {},
   "outputs": [
    {
     "name": "stdout",
     "output_type": "stream",
     "text": [
      "Algeria - DZA                               0.001429\n",
      "Haiti - HTI                                 0.000836\n",
      "Burundi - BDI                               0.000770\n",
      "Nicaragua - NIC                             0.000593\n",
      "Madagascar - MDG                           -0.000755\n",
      "Gambia - GMB                               -0.002642\n",
      "Central African Republic - CAF             -0.007771\n",
      "Niger - NER                                -0.008539\n",
      "D.R. of the Congo - COD                    -0.018001\n",
      "Venezuela (Bolivarian Republic of) - VEN   -0.056263\n",
      "dtype: float64\n"
     ]
    }
   ],
   "source": [
    "# Print the name and growth rates of the countries with the 10 lowest growth rates of GDP per capita\n",
    "print(growth_rates.sort_values(ascending=False).tail(10))"
   ]
  },
  {
   "cell_type": "code",
   "execution_count": 34,
   "metadata": {
    "scrolled": true
   },
   "outputs": [
    {
     "name": "stdout",
     "output_type": "stream",
     "text": [
      "Malta - MLT                0.066797\n",
      "Republic of Korea - KOR    0.061385\n",
      "Botswana - BWA             0.060565\n",
      "Singapore - SGP            0.059211\n",
      "Romania - ROU              0.050583\n",
      "Taiwan - TWN               0.050149\n",
      "Egypt - EGY                0.047807\n",
      "Ireland - IRL              0.047347\n",
      "China - CHN                0.046011\n",
      "Thailand - THA             0.045992\n",
      "dtype: float64\n"
     ]
    }
   ],
   "source": [
    "# Print the name and growth rates of the countries with the 10 highest growth rates of GDP per capita\n",
    "print(growth_rates.sort_values(ascending=False).head(10))"
   ]
  },
  {
   "cell_type": "code",
   "execution_count": 19,
   "metadata": {},
   "outputs": [
    {
     "data": {
      "text/plain": [
       "Botswana - BWA       513.302543\n",
       "Ethiopia - ETH       536.422488\n",
       "Mozambique - MOZ     659.204280\n",
       "El Salvador - SLV    745.048021\n",
       "Burundi - BDI        754.992174\n",
       "Nepal - NPL          761.835880\n",
       "Egypt - EGY          766.933912\n",
       "Mali - MLI           776.597797\n",
       "Malta - MLT          857.511909\n",
       "Uganda - UGA         867.974864\n",
       "Name: 1960-01-01 00:00:00, dtype: float64"
      ]
     },
     "execution_count": 19,
     "metadata": {},
     "output_type": "execute_result"
    }
   ],
   "source": [
    "data_initial.sort_values(ascending=True).head(10)"
   ]
  },
  {
   "cell_type": "code",
   "execution_count": 20,
   "metadata": {},
   "outputs": [
    {
     "name": "stdout",
     "output_type": "stream",
     "text": [
      "Botswana - BWA , Egypt - EGY , Malta - MLT\n"
     ]
    }
   ],
   "source": [
    "# Print the names of the countries that were BOTH among the 10 with lowest GDPs per capita in the initial year and \n",
    "# among the 10 with the highest growth of GDP per capita.\n",
    "print('Botswana - BWA ' +', ' 'Egypt - EGY '+', ' 'Malta - MLT')\n",
    "\n"
   ]
  },
  {
   "cell_type": "code",
   "execution_count": 36,
   "metadata": {},
   "outputs": [
    {
     "data": {
      "text/plain": [
       "Text(0.5, 1.0, 'Scatter plot of GDP Per capita and Average growth rate of GDP per capitaS ')"
      ]
     },
     "execution_count": 36,
     "metadata": {},
     "output_type": "execute_result"
    },
    {
     "data": {
      "image/png": "[encoded data removed]",
      "text/plain": [
       "<Figure size 432x288 with 1 Axes>"
      ]
     },
     "metadata": {
      "needs_background": "light"
     },
     "output_type": "display_data"
    }
   ],
   "source": [
    "# Use the sort_index() method of data_initial to alphabetize the index [e.g., data_initial = data_initial.sort_index()]\n",
    "data_initial = data_initial.sort_index()\n",
    "\n",
    "# Use the sort_index() method of growth_rates to alphabetize the index\n",
    "growth_rates = growth_rates.sort_index()\n",
    "\n",
    "# Construct a scatter plot with:\n",
    "#     1. GDP per capita in the initial year on the horizontal axis\n",
    "#     2. Average growth rate of GDP per capita on the vertical axis\n",
    "#     3. Size of scatter plot markers at least 50\n",
    "#     4. Opacity of scatter plot markers no greater than 0.5\n",
    "#     5. x-axis limit: [0,20000]\n",
    "#     6. Suitable title and labels for the axes\n",
    "\n",
    "\n",
    "fig=plt.figure()\n",
    "ax=fig.add_subplot()\n",
    "ax.scatter(data_initial,growth_rates,s=50,alpha=0.5,label='Relationship between GDP per capita and Average growth size of GDP Per capita')\n",
    "ax.set_xlim([0,20000])\n",
    "ax.set_xlabel('GDP per capita')\n",
    "ax.set_ylabel('Average growth rate of GDP per capita')\n",
    "ax.legend(loc='center left', bbox_to_anchor=(1, 0.5))\n",
    "ax.set_title('Scatter plot of GDP Per capita and Average growth rate of GDP per capitaS ')\n",
    "\n",
    "\n"
   ]
  },
  {
   "cell_type": "markdown",
   "metadata": {},
   "source": [
    "**Question**\n",
    "\n",
    "1. Describe in words the relationship between GDP per capita in the initial year and average growth of GDP per capita. How is the relationship different for low income countries and high income countries?"
   ]
  },
  {
   "cell_type": "markdown",
   "metadata": {},
   "source": [
    "**Answer**\n",
    "\n",
    "1.  In general, the relationship between GDP per capita in the initial year and average growth of GDP per capita maintains a stable relationship where countries with higher GDP per capita tends to have relative constant average growth rate of GDP per capita. and for low income countries compared with high income countries it will be more likely to have a higher average growth rate of GDP per capita"
   ]
  },
  {
   "cell_type": "markdown",
   "metadata": {},
   "source": [
    "### Part (c)\n",
    "\n",
    "In this part you will use OLS to estimate the relationship between GDP per capita in the initial year and average growth of GDP per capita.\n",
    "\n",
    "\\begin{align}\n",
    "g_i & = \\beta_0 + \\beta_{\\text{1}}y_i + \\epsilon_i,\n",
    "\\end{align}\n",
    "\n",
    "where $g_i$ is the average annual growth rate of country $i$, $y_i$ is country $i$'s initial GDP per capita, and $\\epsilon_i$ is the residual of the regression."
   ]
  },
  {
   "cell_type": "code",
   "execution_count": 37,
   "metadata": {},
   "outputs": [
    {
     "name": "stdout",
     "output_type": "stream",
     "text": [
      "                            OLS Regression Results                            \n",
      "==============================================================================\n",
      "Dep. Variable:                      y   R-squared:                       0.003\n",
      "Model:                            OLS   Adj. R-squared:                 -0.007\n",
      "Method:                 Least Squares   F-statistic:                    0.3185\n",
      "Date:                Fri, 14 Oct 2022   Prob (F-statistic):              0.574\n",
      "Time:                        10:24:25   Log-Likelihood:                 277.14\n",
      "No. Observations:                 104   AIC:                            -550.3\n",
      "Df Residuals:                     102   BIC:                            -545.0\n",
      "Df Model:                           1                                         \n",
      "Covariance Type:            nonrobust                                         \n",
      "=======================================================================================\n",
      "                          coef    std err          t      P>|t|      [0.025      0.975]\n",
      "---------------------------------------------------------------------------------------\n",
      "const                   0.0229      0.002      9.535      0.000       0.018       0.028\n",
      "1960-01-01 00:00:00 -1.971e-07   3.49e-07     -0.564      0.574    -8.9e-07    4.96e-07\n",
      "==============================================================================\n",
      "Omnibus:                       22.140   Durbin-Watson:                   1.799\n",
      "Prob(Omnibus):                  0.000   Jarque-Bera (JB):               67.081\n",
      "Skew:                          -0.648   Prob(JB):                     2.71e-15\n",
      "Kurtosis:                       6.715   Cond. No.                     9.88e+03\n",
      "==============================================================================\n",
      "\n",
      "Notes:\n",
      "[1] Standard Errors assume that the covariance matrix of the errors is correctly specified.\n",
      "[2] The condition number is large, 9.88e+03. This might indicate that there are\n",
      "strong multicollinearity or other numerical problems.\n"
     ]
    }
   ],
   "source": [
    "\n",
    "\n",
    "# Create a variable called 'y' that is equal to the average growth rates of the countries\n",
    "y=growth_rates\n",
    "\n",
    "\n",
    "# Create a variable called x' that is equal to the GDP per capita of the countries in the initial year\n",
    "x=data_initial\n",
    "\n",
    "# Use the Statsmodels function add_constant() to add a constant column to the variable x\n",
    "x=sm.add_constant(x)\n",
    "\n",
    "# Create a variable called 'model' equal to the output of the Statsmodels OLS function regressing y upon x\n",
    "model=sm.OLS(y,x)\n",
    "\n",
    "# Create a variable called 'results' that stores the fitted model (i.e., the output of the fit() method of model)\n",
    "results=model.fit()\n",
    "\n",
    "# Print the summary of results generated by the summary() method of results\n",
    "print(results.summary())"
   ]
  },
  {
   "cell_type": "markdown",
   "metadata": {},
   "source": [
    "**Questions**\n",
    "\n",
    "1. Interpret the estimate for the coefficient on $y_i$.\n",
    "2. Interpret the estimate for the constant. Where did we see this number earlier?\n",
    "3. Interpret the R-squared of the regression."
   ]
  },
  {
   "cell_type": "markdown",
   "metadata": {},
   "source": [
    "**Answers**\n",
    "\n",
    "1.  average growth rates of the countries is expected to decrease 1.971*10^(-7) as one additional unit increase in GDP per capita of the countries in the initial year\n",
    "\n",
    "2.  The intepretation of the constant is that when GDP per capita of the countries in the initial year equals 0, the expected average growth rates of the countries tends to be 0.0229\n",
    "\n",
    "3.  R-squared shows 3% of the variaton of average growth rates of the countries can be explained by GDP per capita of the countries in the initial year"
   ]
  },
  {
   "cell_type": "markdown",
   "metadata": {},
   "source": [
    "## Exercise: Income and Growth Across US States\n",
    "\n",
    "The data file `state_income_data.csv` contains annual data on income per capita for the 48 continental states, Washington D.C., and the United States as a whole and is available here: https://raw.githubusercontent.com/letsgoexploring/economic-data/master/us-convergence/csv/state_income_data.csv. \n",
    "\n",
    "In this exercise, you will:\n",
    "\n",
    "1. Analyze some basic facts about income per capita among US states.\n",
    "2. Compute the average annual growth rate of income per capita for each state in the data.\n",
    "3. Compute a linear regression of average income per capita growth on income per capita in the initial year.\n",
    "\n",
    "Follow the instructions in the following cells."
   ]
  },
  {
   "cell_type": "markdown",
   "metadata": {},
   "source": [
    "### Part (a)"
   ]
  },
  {
   "cell_type": "code",
   "execution_count": 23,
   "metadata": {},
   "outputs": [
    {
     "data": {
      "text/html": [
       "<div>\n",
       "<style scoped>\n",
       "    .dataframe tbody tr th:only-of-type {\n",
       "        vertical-align: middle;\n",
       "    }\n",
       "\n",
       "    .dataframe tbody tr th {\n",
       "        vertical-align: top;\n",
       "    }\n",
       "\n",
       "    .dataframe thead th {\n",
       "        text-align: right;\n",
       "    }\n",
       "</style>\n",
       "<table border=\"1\" class=\"dataframe\">\n",
       "  <thead>\n",
       "    <tr style=\"text-align: right;\">\n",
       "      <th></th>\n",
       "      <th>AL</th>\n",
       "      <th>AR</th>\n",
       "      <th>AZ</th>\n",
       "      <th>CA</th>\n",
       "      <th>CO</th>\n",
       "      <th>CT</th>\n",
       "      <th>DC</th>\n",
       "      <th>DE</th>\n",
       "      <th>FL</th>\n",
       "      <th>GA</th>\n",
       "      <th>...</th>\n",
       "      <th>TN</th>\n",
       "      <th>TX</th>\n",
       "      <th>UT</th>\n",
       "      <th>United States</th>\n",
       "      <th>VA</th>\n",
       "      <th>VT</th>\n",
       "      <th>WA</th>\n",
       "      <th>WI</th>\n",
       "      <th>WV</th>\n",
       "      <th>WY</th>\n",
       "    </tr>\n",
       "  </thead>\n",
       "  <tbody>\n",
       "    <tr>\n",
       "      <th>1840-01-01</th>\n",
       "      <td>962.306222</td>\n",
       "      <td>1234.657040</td>\n",
       "      <td>NaN</td>\n",
       "      <td>NaN</td>\n",
       "      <td>NaN</td>\n",
       "      <td>1652.261627</td>\n",
       "      <td>NaN</td>\n",
       "      <td>1234.657040</td>\n",
       "      <td>1252.813761</td>\n",
       "      <td>1034.933107</td>\n",
       "      <td>...</td>\n",
       "      <td>853.365895</td>\n",
       "      <td>NaN</td>\n",
       "      <td>NaN</td>\n",
       "      <td>1180.186876</td>\n",
       "      <td>980.462943</td>\n",
       "      <td>1180.186876</td>\n",
       "      <td>NaN</td>\n",
       "      <td>1452.537694</td>\n",
       "      <td>980.462943</td>\n",
       "      <td>NaN</td>\n",
       "    </tr>\n",
       "    <tr>\n",
       "      <th>1880-01-01</th>\n",
       "      <td>1129.751540</td>\n",
       "      <td>1250.796347</td>\n",
       "      <td>4781.269909</td>\n",
       "      <td>3913.782119</td>\n",
       "      <td>4458.483755</td>\n",
       "      <td>2945.423657</td>\n",
       "      <td>NaN</td>\n",
       "      <td>2178.806541</td>\n",
       "      <td>968.358463</td>\n",
       "      <td>1129.751540</td>\n",
       "      <td>...</td>\n",
       "      <td>1049.055001</td>\n",
       "      <td>1210.448078</td>\n",
       "      <td>1634.104906</td>\n",
       "      <td>1916.542790</td>\n",
       "      <td>1028.880866</td>\n",
       "      <td>2098.110002</td>\n",
       "      <td>2824.378849</td>\n",
       "      <td>1896.368656</td>\n",
       "      <td>1089.403270</td>\n",
       "      <td>3106.816734</td>\n",
       "    </tr>\n",
       "    <tr>\n",
       "      <th>1900-01-01</th>\n",
       "      <td>1350.860055</td>\n",
       "      <td>1372.648121</td>\n",
       "      <td>4357.613081</td>\n",
       "      <td>3943.639839</td>\n",
       "      <td>3812.911446</td>\n",
       "      <td>3398.938203</td>\n",
       "      <td>NaN</td>\n",
       "      <td>2723.508176</td>\n",
       "      <td>1459.800382</td>\n",
       "      <td>1220.131663</td>\n",
       "      <td>...</td>\n",
       "      <td>1329.071990</td>\n",
       "      <td>1830.197494</td>\n",
       "      <td>2483.839456</td>\n",
       "      <td>2462.051391</td>\n",
       "      <td>1438.012317</td>\n",
       "      <td>2570.991718</td>\n",
       "      <td>3943.639839</td>\n",
       "      <td>2331.322999</td>\n",
       "      <td>1721.257167</td>\n",
       "      <td>5163.771501</td>\n",
       "    </tr>\n",
       "    <tr>\n",
       "      <th>1929-01-01</th>\n",
       "      <td>3387.131026</td>\n",
       "      <td>3217.243576</td>\n",
       "      <td>6349.543427</td>\n",
       "      <td>10554.257804</td>\n",
       "      <td>6699.936292</td>\n",
       "      <td>10925.886600</td>\n",
       "      <td>14058.186451</td>\n",
       "      <td>10947.122531</td>\n",
       "      <td>5510.724145</td>\n",
       "      <td>3641.962200</td>\n",
       "      <td>...</td>\n",
       "      <td>3960.501168</td>\n",
       "      <td>5032.915693</td>\n",
       "      <td>5818.645148</td>\n",
       "      <td>7421.957953</td>\n",
       "      <td>4618.815035</td>\n",
       "      <td>6689.318327</td>\n",
       "      <td>7857.294542</td>\n",
       "      <td>7114.036951</td>\n",
       "      <td>4873.646209</td>\n",
       "      <td>7135.272882</td>\n",
       "    </tr>\n",
       "    <tr>\n",
       "      <th>1930-01-01</th>\n",
       "      <td>2898.710460</td>\n",
       "      <td>2468.863661</td>\n",
       "      <td>5709.247217</td>\n",
       "      <td>9798.302656</td>\n",
       "      <td>6326.463132</td>\n",
       "      <td>10217.127742</td>\n",
       "      <td>14482.530585</td>\n",
       "      <td>9456.629560</td>\n",
       "      <td>5158.161578</td>\n",
       "      <td>3339.578971</td>\n",
       "      <td>...</td>\n",
       "      <td>3537.969801</td>\n",
       "      <td>4485.837099</td>\n",
       "      <td>5444.726110</td>\n",
       "      <td>6844.483633</td>\n",
       "      <td>4265.402844</td>\n",
       "      <td>6304.419707</td>\n",
       "      <td>7241.265293</td>\n",
       "      <td>6447.701973</td>\n",
       "      <td>4485.837099</td>\n",
       "      <td>6414.636835</td>\n",
       "    </tr>\n",
       "  </tbody>\n",
       "</table>\n",
       "<p>5 rows × 50 columns</p>\n",
       "</div>"
      ],
      "text/plain": [
       "                     AL           AR           AZ            CA           CO  \\\n",
       "1840-01-01   962.306222  1234.657040          NaN           NaN          NaN   \n",
       "1880-01-01  1129.751540  1250.796347  4781.269909   3913.782119  4458.483755   \n",
       "1900-01-01  1350.860055  1372.648121  4357.613081   3943.639839  3812.911446   \n",
       "1929-01-01  3387.131026  3217.243576  6349.543427  10554.257804  6699.936292   \n",
       "1930-01-01  2898.710460  2468.863661  5709.247217   9798.302656  6326.463132   \n",
       "\n",
       "                      CT            DC            DE           FL  \\\n",
       "1840-01-01   1652.261627           NaN   1234.657040  1252.813761   \n",
       "1880-01-01   2945.423657           NaN   2178.806541   968.358463   \n",
       "1900-01-01   3398.938203           NaN   2723.508176  1459.800382   \n",
       "1929-01-01  10925.886600  14058.186451  10947.122531  5510.724145   \n",
       "1930-01-01  10217.127742  14482.530585   9456.629560  5158.161578   \n",
       "\n",
       "                     GA  ...           TN           TX           UT  \\\n",
       "1840-01-01  1034.933107  ...   853.365895          NaN          NaN   \n",
       "1880-01-01  1129.751540  ...  1049.055001  1210.448078  1634.104906   \n",
       "1900-01-01  1220.131663  ...  1329.071990  1830.197494  2483.839456   \n",
       "1929-01-01  3641.962200  ...  3960.501168  5032.915693  5818.645148   \n",
       "1930-01-01  3339.578971  ...  3537.969801  4485.837099  5444.726110   \n",
       "\n",
       "            United States           VA           VT           WA           WI  \\\n",
       "1840-01-01    1180.186876   980.462943  1180.186876          NaN  1452.537694   \n",
       "1880-01-01    1916.542790  1028.880866  2098.110002  2824.378849  1896.368656   \n",
       "1900-01-01    2462.051391  1438.012317  2570.991718  3943.639839  2331.322999   \n",
       "1929-01-01    7421.957953  4618.815035  6689.318327  7857.294542  7114.036951   \n",
       "1930-01-01    6844.483633  4265.402844  6304.419707  7241.265293  6447.701973   \n",
       "\n",
       "                     WV           WY  \n",
       "1840-01-01   980.462943          NaN  \n",
       "1880-01-01  1089.403270  3106.816734  \n",
       "1900-01-01  1721.257167  5163.771501  \n",
       "1929-01-01  4873.646209  7135.272882  \n",
       "1930-01-01  4485.837099  6414.636835  \n",
       "\n",
       "[5 rows x 50 columns]"
      ]
     },
     "execution_count": 23,
     "metadata": {},
     "output_type": "execute_result"
    }
   ],
   "source": [
    "# Create a variable called 'state_df' that stores the data in the file 'cross_country_gdp_pc.csv' in a DataFrame\n",
    "# Make sure that 'Year', the left-most column of the data, is set to be the index column\n",
    "state_df=pd.read_csv('https://raw.githubusercontent.com/letsgoexploring/economic-data/master/us-convergence/csv/state_income_data.csv',index_col=0,parse_dates=True)\n",
    "\n",
    "# Print the first 5 rows of data\n",
    "state_df.head()\n"
   ]
  },
  {
   "cell_type": "markdown",
   "metadata": {},
   "source": [
    "The DataFrame method `dropna()` returns a DataFrame that omits rows that contain missing (NaN means *not a number*) values. The following command will remove the rows with missing values from the DataFrame `df`:\n",
    "\n",
    "    df =  df.dropna()\n",
    "    \n",
    "The DataFrame method `drop()` returns a DataFrame that omits rows or columns with a given label. The following command will remove the column named `'LABEL'` from the DataFrame `df`:   \n",
    "   \n",
    "    df = df.drop('LABEL',axis=1)\n",
    "    \n",
    "The argument `axis=1` means to look among the columns for `'LABEL'`. If we had wanted to remove a row with the index value `'LABEL'`, then the axis argument would have been: `axis=0`."
   ]
  },
  {
   "cell_type": "code",
   "execution_count": 24,
   "metadata": {},
   "outputs": [
    {
     "data": {
      "text/html": [
       "<div>\n",
       "<style scoped>\n",
       "    .dataframe tbody tr th:only-of-type {\n",
       "        vertical-align: middle;\n",
       "    }\n",
       "\n",
       "    .dataframe tbody tr th {\n",
       "        vertical-align: top;\n",
       "    }\n",
       "\n",
       "    .dataframe thead th {\n",
       "        text-align: right;\n",
       "    }\n",
       "</style>\n",
       "<table border=\"1\" class=\"dataframe\">\n",
       "  <thead>\n",
       "    <tr style=\"text-align: right;\">\n",
       "      <th></th>\n",
       "      <th>AL</th>\n",
       "      <th>AR</th>\n",
       "      <th>AZ</th>\n",
       "      <th>CA</th>\n",
       "      <th>CO</th>\n",
       "      <th>CT</th>\n",
       "      <th>DC</th>\n",
       "      <th>DE</th>\n",
       "      <th>FL</th>\n",
       "      <th>GA</th>\n",
       "      <th>...</th>\n",
       "      <th>SD</th>\n",
       "      <th>TN</th>\n",
       "      <th>TX</th>\n",
       "      <th>UT</th>\n",
       "      <th>VA</th>\n",
       "      <th>VT</th>\n",
       "      <th>WA</th>\n",
       "      <th>WI</th>\n",
       "      <th>WV</th>\n",
       "      <th>WY</th>\n",
       "    </tr>\n",
       "  </thead>\n",
       "  <tbody>\n",
       "    <tr>\n",
       "      <th>1929-01-01</th>\n",
       "      <td>3.387131</td>\n",
       "      <td>3.217244</td>\n",
       "      <td>6.349543</td>\n",
       "      <td>10.554258</td>\n",
       "      <td>6.699936</td>\n",
       "      <td>10.925887</td>\n",
       "      <td>14.058186</td>\n",
       "      <td>10.947123</td>\n",
       "      <td>5.510724</td>\n",
       "      <td>3.641962</td>\n",
       "      <td>...</td>\n",
       "      <td>4.406456</td>\n",
       "      <td>3.960501</td>\n",
       "      <td>5.032916</td>\n",
       "      <td>5.818645</td>\n",
       "      <td>4.618815</td>\n",
       "      <td>6.689318</td>\n",
       "      <td>7.857295</td>\n",
       "      <td>7.114037</td>\n",
       "      <td>4.873646</td>\n",
       "      <td>7.135273</td>\n",
       "    </tr>\n",
       "    <tr>\n",
       "      <th>1930-01-01</th>\n",
       "      <td>2.898710</td>\n",
       "      <td>2.468864</td>\n",
       "      <td>5.709247</td>\n",
       "      <td>9.798303</td>\n",
       "      <td>6.326463</td>\n",
       "      <td>10.217128</td>\n",
       "      <td>14.482531</td>\n",
       "      <td>9.456630</td>\n",
       "      <td>5.158162</td>\n",
       "      <td>3.339579</td>\n",
       "      <td>...</td>\n",
       "      <td>3.934751</td>\n",
       "      <td>3.537970</td>\n",
       "      <td>4.485837</td>\n",
       "      <td>5.444726</td>\n",
       "      <td>4.265403</td>\n",
       "      <td>6.304420</td>\n",
       "      <td>7.241265</td>\n",
       "      <td>6.447702</td>\n",
       "      <td>4.485837</td>\n",
       "      <td>6.414637</td>\n",
       "    </tr>\n",
       "    <tr>\n",
       "      <th>1931-01-01</th>\n",
       "      <td>2.702371</td>\n",
       "      <td>2.542685</td>\n",
       "      <td>5.281906</td>\n",
       "      <td>9.249478</td>\n",
       "      <td>5.797814</td>\n",
       "      <td>9.912787</td>\n",
       "      <td>15.391230</td>\n",
       "      <td>9.531999</td>\n",
       "      <td>4.876551</td>\n",
       "      <td>3.120010</td>\n",
       "      <td>...</td>\n",
       "      <td>2.972608</td>\n",
       "      <td>3.353396</td>\n",
       "      <td>4.237809</td>\n",
       "      <td>4.569463</td>\n",
       "      <td>4.557180</td>\n",
       "      <td>5.785530</td>\n",
       "      <td>6.559391</td>\n",
       "      <td>5.760963</td>\n",
       "      <td>4.348360</td>\n",
       "      <td>5.859231</td>\n",
       "    </tr>\n",
       "    <tr>\n",
       "      <th>1932-01-01</th>\n",
       "      <td>2.212020</td>\n",
       "      <td>2.114636</td>\n",
       "      <td>4.479688</td>\n",
       "      <td>8.124652</td>\n",
       "      <td>4.966611</td>\n",
       "      <td>8.722871</td>\n",
       "      <td>15.400668</td>\n",
       "      <td>8.222037</td>\n",
       "      <td>4.410128</td>\n",
       "      <td>2.740679</td>\n",
       "      <td>...</td>\n",
       "      <td>2.629382</td>\n",
       "      <td>2.698943</td>\n",
       "      <td>3.644964</td>\n",
       "      <td>4.229271</td>\n",
       "      <td>3.978854</td>\n",
       "      <td>5.050083</td>\n",
       "      <td>5.592654</td>\n",
       "      <td>5.036171</td>\n",
       "      <td>3.575403</td>\n",
       "      <td>5.217028</td>\n",
       "    </tr>\n",
       "    <tr>\n",
       "      <th>1933-01-01</th>\n",
       "      <td>2.346545</td>\n",
       "      <td>2.189154</td>\n",
       "      <td>4.421233</td>\n",
       "      <td>7.869509</td>\n",
       "      <td>5.050794</td>\n",
       "      <td>8.456145</td>\n",
       "      <td>13.521248</td>\n",
       "      <td>8.098440</td>\n",
       "      <td>4.135069</td>\n",
       "      <td>2.890256</td>\n",
       "      <td>...</td>\n",
       "      <td>1.945915</td>\n",
       "      <td>2.875948</td>\n",
       "      <td>3.634282</td>\n",
       "      <td>4.249535</td>\n",
       "      <td>4.092145</td>\n",
       "      <td>4.821863</td>\n",
       "      <td>5.379883</td>\n",
       "      <td>4.778938</td>\n",
       "      <td>3.705823</td>\n",
       "      <td>5.322650</td>\n",
       "    </tr>\n",
       "  </tbody>\n",
       "</table>\n",
       "<p>5 rows × 49 columns</p>\n",
       "</div>"
      ],
      "text/plain": [
       "                  AL        AR        AZ         CA        CO         CT  \\\n",
       "1929-01-01  3.387131  3.217244  6.349543  10.554258  6.699936  10.925887   \n",
       "1930-01-01  2.898710  2.468864  5.709247   9.798303  6.326463  10.217128   \n",
       "1931-01-01  2.702371  2.542685  5.281906   9.249478  5.797814   9.912787   \n",
       "1932-01-01  2.212020  2.114636  4.479688   8.124652  4.966611   8.722871   \n",
       "1933-01-01  2.346545  2.189154  4.421233   7.869509  5.050794   8.456145   \n",
       "\n",
       "                   DC         DE        FL        GA  ...        SD        TN  \\\n",
       "1929-01-01  14.058186  10.947123  5.510724  3.641962  ...  4.406456  3.960501   \n",
       "1930-01-01  14.482531   9.456630  5.158162  3.339579  ...  3.934751  3.537970   \n",
       "1931-01-01  15.391230   9.531999  4.876551  3.120010  ...  2.972608  3.353396   \n",
       "1932-01-01  15.400668   8.222037  4.410128  2.740679  ...  2.629382  2.698943   \n",
       "1933-01-01  13.521248   8.098440  4.135069  2.890256  ...  1.945915  2.875948   \n",
       "\n",
       "                  TX        UT        VA        VT        WA        WI  \\\n",
       "1929-01-01  5.032916  5.818645  4.618815  6.689318  7.857295  7.114037   \n",
       "1930-01-01  4.485837  5.444726  4.265403  6.304420  7.241265  6.447702   \n",
       "1931-01-01  4.237809  4.569463  4.557180  5.785530  6.559391  5.760963   \n",
       "1932-01-01  3.644964  4.229271  3.978854  5.050083  5.592654  5.036171   \n",
       "1933-01-01  3.634282  4.249535  4.092145  4.821863  5.379883  4.778938   \n",
       "\n",
       "                  WV        WY  \n",
       "1929-01-01  4.873646  7.135273  \n",
       "1930-01-01  4.485837  6.414637  \n",
       "1931-01-01  4.348360  5.859231  \n",
       "1932-01-01  3.575403  5.217028  \n",
       "1933-01-01  3.705823  5.322650  \n",
       "\n",
       "[5 rows x 49 columns]"
      ]
     },
     "execution_count": 24,
     "metadata": {},
     "output_type": "execute_result"
    }
   ],
   "source": [
    "# Remove the rows with missing data from state_df\n",
    "state_df=state_df.dropna()\n",
    "\n",
    "# Remove the column named 'United States' from state_df\n",
    "\n",
    "state_df=state_df.drop(['United States'],axis=1)\n",
    "\n",
    "# Set state_df equal to itself divided by 1000 so that its units are in thousands of dollars\n",
    "state_df=state_df/1000\n",
    "\n",
    "# Print the first 5 rows of data\n",
    "state_df.head()"
   ]
  },
  {
   "cell_type": "code",
   "execution_count": 25,
   "metadata": {},
   "outputs": [],
   "source": [
    "# Create a variable called 'state_growth_rates' that contains the average growth rate of each state in the data.\n",
    "T=len(state_df.index)-1\n",
    "state_growth_rates=(state_df.iloc[-1]/state_df.iloc[0])**(1/T)-1\n"
   ]
  },
  {
   "cell_type": "code",
   "execution_count": 26,
   "metadata": {},
   "outputs": [
    {
     "data": {
      "text/plain": [
       "Text(0.5, 1.0, 'Scatter plot of Income per capita in the initial year and Average growth rate of income per capita ')"
      ]
     },
     "execution_count": 26,
     "metadata": {},
     "output_type": "execute_result"
    },
    {
     "data": {
      "image/png": "[encoded data removed]",
      "text/plain": [
       "<Figure size 432x288 with 1 Axes>"
      ]
     },
     "metadata": {
      "needs_background": "light"
     },
     "output_type": "display_data"
    }
   ],
   "source": [
    "# Construct a scatter plot with:\n",
    "#     1. Income per capita in the initial year on the horizontal axis\n",
    "#     2. Average growth rate of income per capita on the vertical axis\n",
    "#     3. Size of scatter plot markers at least 50\n",
    "#     4. Opacity of scatter plot markers no greater than 0.5\n",
    "#     5. y-axis limit: [0.015,0.035]\n",
    "#     6. Suitable title and labels for the axes\n",
    "\n",
    "fig=plt.figure()\n",
    "ax1=fig.add_subplot()\n",
    "ax1.scatter(state_df.iloc[0],state_growth_rates,s=50,alpha=0.5,label='Relationship between Income per capita in the initial year and Average growth rate of income per capita')\n",
    "\n",
    "\n",
    "\n",
    "\n",
    "\n",
    "# Create axis 1 and plot with title\n",
    "\n",
    "ax1.set_ylim([0.015,0.035])\n",
    "ax1.set_xlabel('Income per capita in the initial year')\n",
    "ax1.set_ylabel('Average growth rate of income per capita')\n",
    "ax1.legend(loc='center left', bbox_to_anchor=(1, 0.5))\n",
    "ax1.set_title('Scatter plot of Income per capita in the initial year and Average growth rate of income per capita ')\n",
    "\n"
   ]
  },
  {
   "cell_type": "markdown",
   "metadata": {},
   "source": [
    "### Part (b)\n",
    "\n",
    "Like you did for the country data above, use OLS to estimate the relationship between income per capita in the initial year and average growth of income per capita.\n",
    "\n",
    "\\begin{align}\n",
    "g_i & = \\beta_0 + \\beta_{\\text{1}}y_i + \\epsilon_i,\n",
    "\\end{align}\n",
    "\n",
    "where $g_i$ is the average annual growth rate of country $i$, $y_i$ is state $i$'s initial income per capita, and $\\epsilon_i$ is the residual of the regression."
   ]
  },
  {
   "cell_type": "code",
   "execution_count": 27,
   "metadata": {},
   "outputs": [
    {
     "name": "stdout",
     "output_type": "stream",
     "text": [
      "                            OLS Regression Results                            \n",
      "==============================================================================\n",
      "Dep. Variable:                      y   R-squared:                       0.794\n",
      "Model:                            OLS   Adj. R-squared:                  0.790\n",
      "Method:                 Least Squares   F-statistic:                     181.3\n",
      "Date:                Fri, 14 Oct 2022   Prob (F-statistic):           9.59e-18\n",
      "Time:                        10:21:22   Log-Likelihood:                 250.17\n",
      "No. Observations:                  49   AIC:                            -496.3\n",
      "Df Residuals:                      47   BIC:                            -492.6\n",
      "Df Model:                           1                                         \n",
      "Covariance Type:            nonrobust                                         \n",
      "=======================================================================================\n",
      "                          coef    std err          t      P>|t|      [0.025      0.975]\n",
      "---------------------------------------------------------------------------------------\n",
      "const                   0.0307      0.001     51.563      0.000       0.030       0.032\n",
      "1929-01-01 00:00:00    -0.0011   8.34e-05    -13.464      0.000      -0.001      -0.001\n",
      "==============================================================================\n",
      "Omnibus:                        1.944   Durbin-Watson:                   1.970\n",
      "Prob(Omnibus):                  0.378   Jarque-Bera (JB):                1.834\n",
      "Skew:                           0.388   Prob(JB):                        0.400\n",
      "Kurtosis:                       2.456   Cond. No.                         20.2\n",
      "==============================================================================\n",
      "\n",
      "Notes:\n",
      "[1] Standard Errors assume that the covariance matrix of the errors is correctly specified.\n"
     ]
    }
   ],
   "source": [
    "# Create a variable called 'y' that is equal to the average growth rates of the states\n",
    "y=state_growth_rates\n",
    "\n",
    "# Create a variable called x' that is equal to the income per capita of the states in the initial year\n",
    "x=state_df.iloc[0]\n",
    "\n",
    "# Use the Statsmodels function add_constant() to add a constant column to the variable x\n",
    "x=sm.add_constant(x)\n",
    "\n",
    "# Create a variable called 'model' equal to the output of the Statsmodels OLS function regressing y upon x\n",
    "model=sm.OLS(y,x)\n",
    "\n",
    "# Create a variable called 'results' that stores the fitted model (i.e., the output of the fit() method of model)\n",
    "results=model.fit()\n",
    "\n",
    "# Print the summary of results generated by the summary() method of results\n",
    "print(results.summary())"
   ]
  },
  {
   "cell_type": "markdown",
   "metadata": {},
   "source": [
    "**Questions**\n",
    "\n",
    "1. Interpret the estimate for the coefficient on $y_i$.\n",
    "2. Interpret the R-squared of the regression.\n",
    "3. Why do you think that initial income and average growth are so strongly correlated in the state data but not so in the country data? (If you're not sure, referesh your knowledge about the difference between *conditional* and *unconditional* convergence: https://en.wikipedia.org/wiki/Convergence_(economics)#Types_of_Convergence)"
   ]
  },
  {
   "cell_type": "markdown",
   "metadata": {},
   "source": [
    "**Answers**\n",
    "\n",
    "1.  Average growth rates of the states is expected to decrease 0.0011=0.11%  as one additional unit increase in income per capita of the states in the initial year\n",
    "\n",
    "\n",
    "2.  R-squared shows 79.4% of the variaton of average growth rates of the countries can be explained by GDP per capita of the countries in the initial year\n",
    "\n",
    "3. For my perspective, the reason why the initial income and average groth rate is so strongly correlated in the state data but not so in the country data is that the country's variation among intial income is larger than that when compared with state data."
   ]
  }
 ],
 "metadata": {
  "kernelspec": {
   "display_name": "Python 3",
   "language": "python",
   "name": "python3"
  },
  "language_info": {
   "codemirror_mode": {
    "name": "ipython",
    "version": 3
   },
   "file_extension": ".py",
   "mimetype": "text/x-python",
   "name": "python",
   "nbconvert_exporter": "python",
   "pygments_lexer": "ipython3",
   "version": "3.8.5"
  }
 },
 "nbformat": 4,
 "nbformat_minor": 2
}
